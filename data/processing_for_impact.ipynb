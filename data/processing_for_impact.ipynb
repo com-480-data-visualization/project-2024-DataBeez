{
 "cells": [
  {
   "cell_type": "code",
   "execution_count": 11,
   "metadata": {},
   "outputs": [
    {
     "name": "stdout",
     "output_type": "stream",
     "text": [
      "   Sl. No                      Name of Incident     Date    Month     Year  \\\n",
      "0       1  Indus Valley Civilization Flourishes  Unknown  Unknown  2600 BC   \n",
      "1       2               Battle of the Ten Kings  Unknown  Unknown  1400 BC   \n",
      "2       6  Establishment of the Delhi Sultanate  Unknown  Unknown     1206   \n",
      "3       7                     Battle of Panipat       21    April     1526   \n",
      "4       8          Establishment of British Raj        1      May     1858   \n",
      "\n",
      "  Country Type of Event    Place Name  \\\n",
      "0   India  Civilization  Indus Valley   \n",
      "1   India        Battle        Punjab   \n",
      "2   India     Political         Delhi   \n",
      "3   India        Battle       Panipat   \n",
      "4   India      Colonial   Whole India   \n",
      "\n",
      "                                              Impact  \\\n",
      "0  Development of one of the world's earliest urb...   \n",
      "1  Rigvedic tribes consolidated their control ove...   \n",
      "2          Muslim rule established in parts of India   \n",
      "3           Foundation of the Mughal Empire in India   \n",
      "4        Start of direct British governance in India   \n",
      "\n",
      "                       Affected Population Important Person/Group Responsible  \\\n",
      "0                        Local inhabitants                Indus Valley people   \n",
      "1                          Rigvedic tribes                              Sudas   \n",
      "2  People of Delhi and surrounding regions      QutbUnknownudUnknowndin Aibak   \n",
      "3                 Northern Indian kingdoms                              Babur   \n",
      "4                      Indian subcontinent  British East India Company/Empire   \n",
      "\n",
      "    Outcome         Broad Category Continent  \n",
      "0  Positive                  Other      Asia  \n",
      "1  Positive  Military and Conflict      Asia  \n",
      "2     Mixed       Political Events      Asia  \n",
      "3     Mixed  Military and Conflict      Asia  \n",
      "4  Negative                  Other      Asia  \n"
     ]
    }
   ],
   "source": [
    "import pandas as pd\n",
    "\n",
    "# Load the dataset\n",
    "data = pd.read_csv('modified_data.csv')\n",
    "\n",
    "# Display the first few rows of the DataFrame\n",
    "print(data.head())\n"
   ]
  },
  {
   "cell_type": "code",
   "execution_count": 13,
   "metadata": {},
   "outputs": [
    {
     "name": "stdout",
     "output_type": "stream",
     "text": [
      "Unique values in 'Outcome': ['Positive' 'Mixed' 'Negative' 'Ongoing']\n",
      "Cleaned Data:    Sl. No                      Name of Incident     Date    Month  Year  \\\n",
      "0       1  Indus Valley Civilization Flourishes  Unknown  Unknown  2600   \n",
      "1       2               Battle of the Ten Kings  Unknown  Unknown  1400   \n",
      "2       6  Establishment of the Delhi Sultanate  Unknown  Unknown  1206   \n",
      "3       7                     Battle of Panipat       21    April  1526   \n",
      "4       8          Establishment of British Raj        1      May  1858   \n",
      "\n",
      "  Country Type of Event    Place Name  \\\n",
      "0   India  Civilization  Indus Valley   \n",
      "1   India        Battle        Punjab   \n",
      "2   India     Political         Delhi   \n",
      "3   India        Battle       Panipat   \n",
      "4   India      Colonial   Whole India   \n",
      "\n",
      "                                              Impact  \\\n",
      "0  Development of one of the world's earliest urb...   \n",
      "1  Rigvedic tribes consolidated their control ove...   \n",
      "2          Muslim rule established in parts of India   \n",
      "3           Foundation of the Mughal Empire in India   \n",
      "4        Start of direct British governance in India   \n",
      "\n",
      "                       Affected Population Important Person/Group Responsible  \\\n",
      "0                        Local inhabitants                Indus Valley people   \n",
      "1                          Rigvedic tribes                              Sudas   \n",
      "2  People of Delhi and surrounding regions      QutbUnknownudUnknowndin Aibak   \n",
      "3                 Northern Indian kingdoms                              Babur   \n",
      "4                      Indian subcontinent  British East India Company/Empire   \n",
      "\n",
      "   Outcome         Broad Category Continent  \n",
      "0      1.0                  Other      Asia  \n",
      "1      1.0  Military and Conflict      Asia  \n",
      "2      0.0       Political Events      Asia  \n",
      "3      0.0  Military and Conflict      Asia  \n",
      "4     -1.0                  Other      Asia  \n"
     ]
    }
   ],
   "source": [
    "import pandas as pd\n",
    "\n",
    "# Extracting the first occurrence of a four-digit year from the 'Year' column\n",
    "data['Year'] = data['Year'].str.extract('(\\d{4})')\n",
    "\n",
    "# Converting 'Year' from string to numeric, dropping any rows where 'Year' could not be converted\n",
    "data['Year'] = pd.to_numeric(data['Year'], errors='coerce')\n",
    "data.dropna(subset=['Year'], inplace=True)\n",
    "\n",
    "# Convert 'Year' to an integer (now that we know it only contains valid numeric values)\n",
    "data['Year'] = data['Year'].astype(int)\n",
    "\n",
    "# Handle the 'Outcome' column if it's used for categorization in visualization\n",
    "print(\"Unique values in 'Outcome':\", data['Outcome'].unique())\n",
    "\n",
    "# Mapping 'Outcome' to numerical values\n",
    "outcome_mapping = {'Positive': 1, 'Negative': -1, 'Mixed': 0}\n",
    "data['Outcome'] = data['Outcome'].map(outcome_mapping)\n",
    "\n",
    "# Drop any rows that still have NaN values after all transformations, or fill them if that's preferable\n",
    "data.dropna(inplace=True)\n",
    "\n",
    "# Optionally, inspect the data to ensure it's as expected\n",
    "print(\"Cleaned Data:\", data.head())\n",
    "\n",
    "# Save the cleaned data to a new CSV file for use in JavaScript/D3\n",
    "data.to_csv('impact_data.csv', index=False)\n"
   ]
  }
 ],
 "metadata": {
  "kernelspec": {
   "display_name": "Python 3",
   "language": "python",
   "name": "python3"
  },
  "language_info": {
   "codemirror_mode": {
    "name": "ipython",
    "version": 3
   },
   "file_extension": ".py",
   "mimetype": "text/x-python",
   "name": "python",
   "nbconvert_exporter": "python",
   "pygments_lexer": "ipython3",
   "version": "3.9.6"
  },
  "orig_nbformat": 4
 },
 "nbformat": 4,
 "nbformat_minor": 2
}
